{
 "cells": [
  {
   "cell_type": "code",
   "execution_count": 1,
   "metadata": {},
   "outputs": [],
   "source": [
    "import numpy as np\n",
    "import pandas as pd \n",
    "from sklearn.model_selection import train_test_split\n",
    "import re"
   ]
  },
  {
   "cell_type": "code",
   "execution_count": 5,
   "metadata": {},
   "outputs": [
    {
     "name": "stderr",
     "output_type": "stream",
     "text": [
      "No model was supplied, defaulted to distilbert-base-uncased-finetuned-sst-2-english (https://huggingface.co/distilbert-base-uncased-finetuned-sst-2-english)\n"
     ]
    },
    {
     "data": {
      "application/vnd.jupyter.widget-view+json": {
       "model_id": "25049f32957446998a0312d64ccc247a",
       "version_major": 2,
       "version_minor": 0
      },
      "text/plain": [
       "Downloading:   0%|          | 0.00/987 [00:00<?, ?B/s]"
      ]
     },
     "metadata": {},
     "output_type": "display_data"
    },
    {
     "name": "stderr",
     "output_type": "stream",
     "text": [
      "emoji is not installed, thus not converting emoticons or emojis into text. Please install emoji: pip3 install emoji\n"
     ]
    }
   ],
   "source": [
    "from transformers import pipeline\n",
    "sentiment1 = pipeline(\"sentiment-analysis\")\n",
    "sentiment2 = pipeline(model=\"finiteautomata/bertweet-base-sentiment-analysis\")"
   ]
  },
  {
   "cell_type": "code",
   "execution_count": 6,
   "metadata": {},
   "outputs": [],
   "source": [
    "train = pd.read_csv(\"data/train_use.csv\")\n",
    "valid = pd.read_csv(\"data/valid_use.csv\")\n",
    "test = pd.read_csv(\"data/test_use.csv\")"
   ]
  },
  {
   "cell_type": "code",
   "execution_count": 8,
   "metadata": {},
   "outputs": [],
   "source": [
    "train_senti1 = sentiment1(list(train['text']))\n",
    "valid_senti1 = sentiment1(list(valid['text']))\n",
    "test_senti1 = sentiment1(list(test['text']))"
   ]
  },
  {
   "cell_type": "code",
   "execution_count": 9,
   "metadata": {},
   "outputs": [],
   "source": [
    "train_senti2 = sentiment2(list(train['text']))\n",
    "valid_senti2 = sentiment2(list(valid['text']))\n",
    "test_senti2 = sentiment2(list(test['text']))"
   ]
  },
  {
   "cell_type": "code",
   "execution_count": 10,
   "metadata": {},
   "outputs": [],
   "source": [
    "train_senti1_posi = [train_senti1[i]['score'] if train_senti1[i]['label'] == 'POSITIVE' else 0 for i in range(len(train_senti1))]\n",
    "train_senti1_nega = [train_senti1[i]['score'] if train_senti1[i]['label'] == 'NEGATIVE' else 0 for i in range(len(train_senti1))]\n",
    "valid_senti1_posi = [valid_senti1[i]['score'] if valid_senti1[i]['label'] == 'POSITIVE' else 0 for i in range(len(valid_senti1))]\n",
    "valid_senti1_nega = [valid_senti1[i]['score'] if valid_senti1[i]['label'] == 'NEGATIVE' else 0 for i in range(len(valid_senti1))]\n",
    "test_senti1_posi = [test_senti1[i]['score'] if test_senti1[i]['label'] == 'POSITIVE' else 0 for i in range(len(test_senti1))]\n",
    "test_senti1_nega = [test_senti1[i]['score'] if test_senti1[i]['label'] == 'NEGATIVE' else 0 for i in range(len(test_senti1))]"
   ]
  },
  {
   "cell_type": "code",
   "execution_count": 11,
   "metadata": {},
   "outputs": [],
   "source": [
    "train_senti2_posi = [train_senti2[i]['score'] if train_senti2[i]['label'] == 'POS' else 0 for i in range(len(train_senti2))]\n",
    "train_senti2_nega = [train_senti2[i]['score'] if train_senti2[i]['label'] == 'NEG' else 0 for i in range(len(train_senti2))]\n",
    "train_senti2_neu = [train_senti2[i]['score'] if train_senti2[i]['label'] == 'NEU' else 0 for i in range(len(train_senti2))]\n",
    "valid_senti2_posi = [valid_senti2[i]['score'] if valid_senti2[i]['label'] == 'POS' else 0 for i in range(len(valid_senti2))]\n",
    "valid_senti2_nega = [valid_senti2[i]['score'] if valid_senti2[i]['label'] == 'NEG' else 0 for i in range(len(valid_senti2))]\n",
    "valid_senti2_neu = [valid_senti2[i]['score'] if valid_senti2[i]['label'] == 'NEU' else 0 for i in range(len(valid_senti2))]\n",
    "test_senti2_posi = [test_senti2[i]['score'] if test_senti2[i]['label'] == 'POS' else 0 for i in range(len(test_senti2))]\n",
    "test_senti2_nega = [test_senti2[i]['score'] if test_senti2[i]['label'] == 'NEG' else 0 for i in range(len(test_senti2))]\n",
    "test_senti2_neu = [test_senti2[i]['score'] if test_senti2[i]['label'] == 'NEU' else 0 for i in range(len(test_senti2))]"
   ]
  },
  {
   "cell_type": "code",
   "execution_count": 13,
   "metadata": {},
   "outputs": [
    {
     "data": {
      "text/html": [
       "<div>\n",
       "<style scoped>\n",
       "    .dataframe tbody tr th:only-of-type {\n",
       "        vertical-align: middle;\n",
       "    }\n",
       "\n",
       "    .dataframe tbody tr th {\n",
       "        vertical-align: top;\n",
       "    }\n",
       "\n",
       "    .dataframe thead th {\n",
       "        text-align: right;\n",
       "    }\n",
       "</style>\n",
       "<table border=\"1\" class=\"dataframe\">\n",
       "  <thead>\n",
       "    <tr style=\"text-align: right;\">\n",
       "      <th></th>\n",
       "      <th>posi1</th>\n",
       "      <th>nega1</th>\n",
       "      <th>posi2</th>\n",
       "      <th>nega2</th>\n",
       "      <th>neu2</th>\n",
       "      <th>label</th>\n",
       "    </tr>\n",
       "  </thead>\n",
       "  <tbody>\n",
       "    <tr>\n",
       "      <th>0</th>\n",
       "      <td>0.999164</td>\n",
       "      <td>0.000000</td>\n",
       "      <td>0.000000</td>\n",
       "      <td>0.000000</td>\n",
       "      <td>0.904307</td>\n",
       "      <td>1</td>\n",
       "    </tr>\n",
       "    <tr>\n",
       "      <th>1</th>\n",
       "      <td>0.000000</td>\n",
       "      <td>0.996901</td>\n",
       "      <td>0.000000</td>\n",
       "      <td>0.945229</td>\n",
       "      <td>0.000000</td>\n",
       "      <td>0</td>\n",
       "    </tr>\n",
       "    <tr>\n",
       "      <th>2</th>\n",
       "      <td>0.000000</td>\n",
       "      <td>0.974419</td>\n",
       "      <td>0.000000</td>\n",
       "      <td>0.534346</td>\n",
       "      <td>0.000000</td>\n",
       "      <td>1</td>\n",
       "    </tr>\n",
       "    <tr>\n",
       "      <th>3</th>\n",
       "      <td>0.000000</td>\n",
       "      <td>0.999123</td>\n",
       "      <td>0.000000</td>\n",
       "      <td>0.939632</td>\n",
       "      <td>0.000000</td>\n",
       "      <td>1</td>\n",
       "    </tr>\n",
       "    <tr>\n",
       "      <th>4</th>\n",
       "      <td>0.000000</td>\n",
       "      <td>0.833212</td>\n",
       "      <td>0.000000</td>\n",
       "      <td>0.000000</td>\n",
       "      <td>0.618091</td>\n",
       "      <td>0</td>\n",
       "    </tr>\n",
       "    <tr>\n",
       "      <th>...</th>\n",
       "      <td>...</td>\n",
       "      <td>...</td>\n",
       "      <td>...</td>\n",
       "      <td>...</td>\n",
       "      <td>...</td>\n",
       "      <td>...</td>\n",
       "    </tr>\n",
       "    <tr>\n",
       "      <th>6085</th>\n",
       "      <td>0.996390</td>\n",
       "      <td>0.000000</td>\n",
       "      <td>0.733445</td>\n",
       "      <td>0.000000</td>\n",
       "      <td>0.000000</td>\n",
       "      <td>0</td>\n",
       "    </tr>\n",
       "    <tr>\n",
       "      <th>6086</th>\n",
       "      <td>0.000000</td>\n",
       "      <td>0.999553</td>\n",
       "      <td>0.000000</td>\n",
       "      <td>0.956925</td>\n",
       "      <td>0.000000</td>\n",
       "      <td>0</td>\n",
       "    </tr>\n",
       "    <tr>\n",
       "      <th>6087</th>\n",
       "      <td>0.000000</td>\n",
       "      <td>0.993099</td>\n",
       "      <td>0.000000</td>\n",
       "      <td>0.000000</td>\n",
       "      <td>0.880959</td>\n",
       "      <td>0</td>\n",
       "    </tr>\n",
       "    <tr>\n",
       "      <th>6088</th>\n",
       "      <td>0.000000</td>\n",
       "      <td>0.992216</td>\n",
       "      <td>0.000000</td>\n",
       "      <td>0.000000</td>\n",
       "      <td>0.924359</td>\n",
       "      <td>1</td>\n",
       "    </tr>\n",
       "    <tr>\n",
       "      <th>6089</th>\n",
       "      <td>0.982602</td>\n",
       "      <td>0.000000</td>\n",
       "      <td>0.828494</td>\n",
       "      <td>0.000000</td>\n",
       "      <td>0.000000</td>\n",
       "      <td>1</td>\n",
       "    </tr>\n",
       "  </tbody>\n",
       "</table>\n",
       "<p>6090 rows × 6 columns</p>\n",
       "</div>"
      ],
      "text/plain": [
       "         posi1     nega1     posi2     nega2      neu2  label\n",
       "0     0.999164  0.000000  0.000000  0.000000  0.904307      1\n",
       "1     0.000000  0.996901  0.000000  0.945229  0.000000      0\n",
       "2     0.000000  0.974419  0.000000  0.534346  0.000000      1\n",
       "3     0.000000  0.999123  0.000000  0.939632  0.000000      1\n",
       "4     0.000000  0.833212  0.000000  0.000000  0.618091      0\n",
       "...        ...       ...       ...       ...       ...    ...\n",
       "6085  0.996390  0.000000  0.733445  0.000000  0.000000      0\n",
       "6086  0.000000  0.999553  0.000000  0.956925  0.000000      0\n",
       "6087  0.000000  0.993099  0.000000  0.000000  0.880959      0\n",
       "6088  0.000000  0.992216  0.000000  0.000000  0.924359      1\n",
       "6089  0.982602  0.000000  0.828494  0.000000  0.000000      1\n",
       "\n",
       "[6090 rows x 6 columns]"
      ]
     },
     "execution_count": 13,
     "metadata": {},
     "output_type": "execute_result"
    }
   ],
   "source": [
    "# no \"neutral\" while using sentiment1 \n",
    "train_senti = pd.DataFrame()\n",
    "train_senti['posi1'] = train_senti1_posi\n",
    "train_senti['nega1'] = train_senti1_nega\n",
    "train_senti['posi2'] = train_senti2_posi\n",
    "train_senti['nega2'] = train_senti2_nega\n",
    "train_senti['neu2'] = train_senti2_neu\n",
    "train_senti['label'] = list(train['target'])\n",
    "train_senti"
   ]
  },
  {
   "cell_type": "code",
   "execution_count": 14,
   "metadata": {},
   "outputs": [],
   "source": [
    "valid_senti = pd.DataFrame()\n",
    "valid_senti['posi1'] = valid_senti1_posi\n",
    "valid_senti['nega1'] = valid_senti1_nega\n",
    "valid_senti['posi2'] = valid_senti2_posi\n",
    "valid_senti['nega2'] = valid_senti2_nega\n",
    "valid_senti['neu2'] = valid_senti2_neu\n",
    "valid_senti['label'] = list(valid['target'])"
   ]
  },
  {
   "cell_type": "code",
   "execution_count": 15,
   "metadata": {},
   "outputs": [],
   "source": [
    "test_senti = pd.DataFrame()\n",
    "test_senti['posi1'] = test_senti1_posi\n",
    "test_senti['nega1'] = test_senti1_nega\n",
    "test_senti['posi2'] = test_senti2_posi\n",
    "test_senti['nega2'] = test_senti2_nega\n",
    "test_senti['neu2'] = test_senti2_neu"
   ]
  },
  {
   "cell_type": "code",
   "execution_count": 19,
   "metadata": {},
   "outputs": [],
   "source": [
    "train_senti.to_csv('data/train_senti.csv', index=False)\n",
    "valid_senti.to_csv('data/valid_senti.csv', index=False)\n",
    "test_senti.to_csv('data/test_senti.csv', index=False)"
   ]
  },
  {
   "cell_type": "markdown",
   "metadata": {},
   "source": [
    "### Simplest lr model, just using sentimental scores from senti1(basic) and senti2(tweets)"
   ]
  },
  {
   "cell_type": "code",
   "execution_count": 8,
   "metadata": {},
   "outputs": [],
   "source": [
    "from sklearn.linear_model import LogisticRegression"
   ]
  },
  {
   "cell_type": "code",
   "execution_count": 17,
   "metadata": {},
   "outputs": [],
   "source": [
    "X = np.array(train_senti)\n",
    "X_train = X[:, :5]\n",
    "y_train = X[:, 5]\n",
    "Xv = np.array(test_senti)\n",
    "X_valid = X[:, :5]\n",
    "y_valid = X[:, 5]\n",
    "X_test = np.array(test_senti)"
   ]
  },
  {
   "cell_type": "code",
   "execution_count": 22,
   "metadata": {},
   "outputs": [
    {
     "data": {
      "text/plain": [
       "0.5678160919540229"
      ]
     },
     "execution_count": 22,
     "metadata": {},
     "output_type": "execute_result"
    }
   ],
   "source": [
    "lr = LogisticRegression(random_state=0).fit(X_train, y_train)\n",
    "lr.score(X_valid, y_valid)"
   ]
  },
  {
   "cell_type": "markdown",
   "metadata": {},
   "source": [
    "### add sklearn tokenized features "
   ]
  },
  {
   "cell_type": "code",
   "execution_count": 29,
   "metadata": {},
   "outputs": [],
   "source": [
    "train_lr = pd.read_csv(\"data/train_lr.csv\")\n",
    "valid_lr = pd.read_csv(\"data/valid_lr.csv\")\n",
    "test_lr = pd.read_csv(\"data/test_lr.csv\")\n",
    "train_senti = pd.read_csv(\"data/train_senti.csv\")\n",
    "valid_senti = pd.read_csv(\"data/valid_senti.csv\")\n",
    "test_senti = pd.read_csv(\"data/test_senti.csv\")"
   ]
  },
  {
   "cell_type": "code",
   "execution_count": 3,
   "metadata": {},
   "outputs": [],
   "source": [
    "y_train = train_lr['target']\n",
    "y_valid = valid_lr['target']"
   ]
  },
  {
   "cell_type": "code",
   "execution_count": 12,
   "metadata": {},
   "outputs": [],
   "source": [
    "X_train = train_lr.drop('target', axis = 1)\n",
    "#X_train['posi1'] = train_senti['posi1']\n",
    "#X_train['nega1'] = train_senti['nega1']\n",
    "X_train['posi2'] = train_senti['posi2']\n",
    "X_train['nega2'] = train_senti['nega2']\n",
    "X_train['neu2'] = train_senti['neu2']\n",
    "X_train = np.array(X_train)"
   ]
  },
  {
   "cell_type": "code",
   "execution_count": 25,
   "metadata": {},
   "outputs": [],
   "source": [
    "X_valid = valid_lr.drop('target', axis = 1)\n",
    "#X_valid['posi1'] = valid_senti['posi1']\n",
    "#X_valid['nega1'] = valid_senti['nega1']\n",
    "X_valid['posi2'] = valid_senti['posi2']\n",
    "X_valid['nega2'] = valid_senti['nega2']\n",
    "X_valid['neu2'] = valid_senti['neu2']\n",
    "X_valid = np.array(X_valid)"
   ]
  },
  {
   "cell_type": "code",
   "execution_count": 33,
   "metadata": {},
   "outputs": [],
   "source": [
    "X_test = test_lr\n",
    "X_test['posi2'] = test_senti['posi2']\n",
    "X_test['nega2'] = test_senti['nega2']\n",
    "X_test['neu2'] = test_senti['neu2']\n",
    "X_test = np.array(X_test)"
   ]
  },
  {
   "cell_type": "code",
   "execution_count": 31,
   "metadata": {},
   "outputs": [
    {
     "data": {
      "text/plain": [
       "0.799080761654629"
      ]
     },
     "execution_count": 31,
     "metadata": {},
     "output_type": "execute_result"
    }
   ],
   "source": [
    "lr = LogisticRegression(random_state=0).fit(X_train, y_train)\n",
    "lr.score(X_valid, y_valid)"
   ]
  },
  {
   "cell_type": "code",
   "execution_count": 34,
   "metadata": {},
   "outputs": [
    {
     "data": {
      "text/plain": [
       "3263"
      ]
     },
     "execution_count": 34,
     "metadata": {},
     "output_type": "execute_result"
    }
   ],
   "source": [
    "pred = lr.predict(X_test)\n",
    "len(pred)"
   ]
  },
  {
   "cell_type": "code",
   "execution_count": 35,
   "metadata": {},
   "outputs": [],
   "source": [
    "test_data = pd.read_csv(\"data/test.csv\")\n",
    "preds_df = pd.DataFrame({\"id\": test_data[\"id\"], \"target\": pred})\n",
    "preds_df.to_csv(f\"data/output_senti_lr.csv\", index=False)"
   ]
  }
 ],
 "metadata": {
  "interpreter": {
   "hash": "f2d0b0f03ac3a581d6b1b551bd30a19f866dd2d205f22e8dba00531575c12bcc"
  },
  "kernelspec": {
   "display_name": "Python 3.8.12 ('.venv': venv)",
   "language": "python",
   "name": "python3"
  },
  "language_info": {
   "codemirror_mode": {
    "name": "ipython",
    "version": 3
   },
   "file_extension": ".py",
   "mimetype": "text/x-python",
   "name": "python",
   "nbconvert_exporter": "python",
   "pygments_lexer": "ipython3",
   "version": "3.8.12"
  },
  "orig_nbformat": 4
 },
 "nbformat": 4,
 "nbformat_minor": 2
}
