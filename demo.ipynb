{
 "cells": [
  {
   "cell_type": "code",
   "execution_count": 1,
   "metadata": {},
   "outputs": [],
   "source": [
    "import flor\n",
    "import plotly.express as px"
   ]
  },
  {
   "cell_type": "code",
   "execution_count": 2,
   "metadata": {},
   "outputs": [
    {
     "data": {
      "text/html": [
       "<div>\n",
       "<style scoped>\n",
       "    .dataframe tbody tr th:only-of-type {\n",
       "        vertical-align: middle;\n",
       "    }\n",
       "\n",
       "    .dataframe tbody tr th {\n",
       "        vertical-align: top;\n",
       "    }\n",
       "\n",
       "    .dataframe thead th {\n",
       "        text-align: right;\n",
       "    }\n",
       "</style>\n",
       "<table border=\"1\" class=\"dataframe\">\n",
       "  <thead>\n",
       "    <tr style=\"text-align: right;\">\n",
       "      <th></th>\n",
       "      <th>projid</th>\n",
       "      <th>vid</th>\n",
       "      <th>tstamp</th>\n",
       "      <th>alpha</th>\n",
       "      <th>epoch</th>\n",
       "      <th>step</th>\n",
       "      <th>name</th>\n",
       "      <th>value</th>\n",
       "    </tr>\n",
       "  </thead>\n",
       "  <tbody>\n",
       "    <tr>\n",
       "      <th>10284</th>\n",
       "      <td>kaggle-nlp-disasters-rnn</td>\n",
       "      <td>891435432eb68ca13e41a34b2c64a796109719d0</td>\n",
       "      <td>2022-02-10 03:31:32</td>\n",
       "      <td>a</td>\n",
       "      <td>80</td>\n",
       "      <td>1</td>\n",
       "      <td>average_valid_loss</td>\n",
       "      <td>0.506881</td>\n",
       "    </tr>\n",
       "    <tr>\n",
       "      <th>10058</th>\n",
       "      <td>kaggle-nlp-disasters-rnn</td>\n",
       "      <td>891435432eb68ca13e41a34b2c64a796109719d0</td>\n",
       "      <td>2022-02-10 03:31:32</td>\n",
       "      <td>a</td>\n",
       "      <td>26</td>\n",
       "      <td>1</td>\n",
       "      <td>avg_train_loss</td>\n",
       "      <td>0.67932</td>\n",
       "    </tr>\n",
       "    <tr>\n",
       "      <th>10060</th>\n",
       "      <td>kaggle-nlp-disasters-rnn</td>\n",
       "      <td>891435432eb68ca13e41a34b2c64a796109719d0</td>\n",
       "      <td>2022-02-10 03:31:32</td>\n",
       "      <td>a</td>\n",
       "      <td>26</td>\n",
       "      <td>1</td>\n",
       "      <td>average_valid_loss</td>\n",
       "      <td>0.657217</td>\n",
       "    </tr>\n",
       "    <tr>\n",
       "      <th>10061</th>\n",
       "      <td>kaggle-nlp-disasters-rnn</td>\n",
       "      <td>891435432eb68ca13e41a34b2c64a796109719d0</td>\n",
       "      <td>2022-02-10 03:31:32</td>\n",
       "      <td>a</td>\n",
       "      <td>27</td>\n",
       "      <td>0</td>\n",
       "      <td>avg_train_loss</td>\n",
       "      <td>0.651109</td>\n",
       "    </tr>\n",
       "    <tr>\n",
       "      <th>10062</th>\n",
       "      <td>kaggle-nlp-disasters-rnn</td>\n",
       "      <td>891435432eb68ca13e41a34b2c64a796109719d0</td>\n",
       "      <td>2022-02-10 03:31:32</td>\n",
       "      <td>a</td>\n",
       "      <td>27</td>\n",
       "      <td>1</td>\n",
       "      <td>avg_train_loss</td>\n",
       "      <td>0.672554</td>\n",
       "    </tr>\n",
       "    <tr>\n",
       "      <th>...</th>\n",
       "      <td>...</td>\n",
       "      <td>...</td>\n",
       "      <td>...</td>\n",
       "      <td>...</td>\n",
       "      <td>...</td>\n",
       "      <td>...</td>\n",
       "      <td>...</td>\n",
       "      <td>...</td>\n",
       "    </tr>\n",
       "    <tr>\n",
       "      <th>222</th>\n",
       "      <td>kaggle-nlp-disasters-rnn</td>\n",
       "      <td>c42e5f0314fe034c99dfbb16ea05d851aadd8c76</td>\n",
       "      <td>2022-02-07 20:42:25</td>\n",
       "      <td>a</td>\n",
       "      <td>55</td>\n",
       "      <td>0</td>\n",
       "      <td>avg_train_loss</td>\n",
       "      <td>0.425448</td>\n",
       "    </tr>\n",
       "    <tr>\n",
       "      <th>223</th>\n",
       "      <td>kaggle-nlp-disasters-rnn</td>\n",
       "      <td>c42e5f0314fe034c99dfbb16ea05d851aadd8c76</td>\n",
       "      <td>2022-02-07 20:42:25</td>\n",
       "      <td>a</td>\n",
       "      <td>55</td>\n",
       "      <td>1</td>\n",
       "      <td>avg_train_loss</td>\n",
       "      <td>0.407593</td>\n",
       "    </tr>\n",
       "    <tr>\n",
       "      <th>224</th>\n",
       "      <td>kaggle-nlp-disasters-rnn</td>\n",
       "      <td>c42e5f0314fe034c99dfbb16ea05d851aadd8c76</td>\n",
       "      <td>2022-02-07 20:42:25</td>\n",
       "      <td>a</td>\n",
       "      <td>55</td>\n",
       "      <td>0</td>\n",
       "      <td>average_valid_loss</td>\n",
       "      <td>0.48921</td>\n",
       "    </tr>\n",
       "    <tr>\n",
       "      <th>225</th>\n",
       "      <td>kaggle-nlp-disasters-rnn</td>\n",
       "      <td>c42e5f0314fe034c99dfbb16ea05d851aadd8c76</td>\n",
       "      <td>2022-02-07 20:42:25</td>\n",
       "      <td>a</td>\n",
       "      <td>55</td>\n",
       "      <td>1</td>\n",
       "      <td>average_valid_loss</td>\n",
       "      <td>0.492681</td>\n",
       "    </tr>\n",
       "    <tr>\n",
       "      <th>0</th>\n",
       "      <td>kaggle-nlp-disasters-rnn</td>\n",
       "      <td>c42e5f0314fe034c99dfbb16ea05d851aadd8c76</td>\n",
       "      <td>2022-02-07 20:42:25</td>\n",
       "      <td>a</td>\n",
       "      <td>1</td>\n",
       "      <td>0</td>\n",
       "      <td>avg_train_loss</td>\n",
       "      <td>0.69547</td>\n",
       "    </tr>\n",
       "  </tbody>\n",
       "</table>\n",
       "<p>10285 rows × 8 columns</p>\n",
       "</div>"
      ],
      "text/plain": [
       "                         projid                                       vid  \\\n",
       "10284  kaggle-nlp-disasters-rnn  891435432eb68ca13e41a34b2c64a796109719d0   \n",
       "10058  kaggle-nlp-disasters-rnn  891435432eb68ca13e41a34b2c64a796109719d0   \n",
       "10060  kaggle-nlp-disasters-rnn  891435432eb68ca13e41a34b2c64a796109719d0   \n",
       "10061  kaggle-nlp-disasters-rnn  891435432eb68ca13e41a34b2c64a796109719d0   \n",
       "10062  kaggle-nlp-disasters-rnn  891435432eb68ca13e41a34b2c64a796109719d0   \n",
       "...                         ...                                       ...   \n",
       "222    kaggle-nlp-disasters-rnn  c42e5f0314fe034c99dfbb16ea05d851aadd8c76   \n",
       "223    kaggle-nlp-disasters-rnn  c42e5f0314fe034c99dfbb16ea05d851aadd8c76   \n",
       "224    kaggle-nlp-disasters-rnn  c42e5f0314fe034c99dfbb16ea05d851aadd8c76   \n",
       "225    kaggle-nlp-disasters-rnn  c42e5f0314fe034c99dfbb16ea05d851aadd8c76   \n",
       "0      kaggle-nlp-disasters-rnn  c42e5f0314fe034c99dfbb16ea05d851aadd8c76   \n",
       "\n",
       "                   tstamp alpha  epoch  step                name     value  \n",
       "10284 2022-02-10 03:31:32     a     80     1  average_valid_loss  0.506881  \n",
       "10058 2022-02-10 03:31:32     a     26     1      avg_train_loss   0.67932  \n",
       "10060 2022-02-10 03:31:32     a     26     1  average_valid_loss  0.657217  \n",
       "10061 2022-02-10 03:31:32     a     27     0      avg_train_loss  0.651109  \n",
       "10062 2022-02-10 03:31:32     a     27     1      avg_train_loss  0.672554  \n",
       "...                   ...   ...    ...   ...                 ...       ...  \n",
       "222   2022-02-07 20:42:25     a     55     0      avg_train_loss  0.425448  \n",
       "223   2022-02-07 20:42:25     a     55     1      avg_train_loss  0.407593  \n",
       "224   2022-02-07 20:42:25     a     55     0  average_valid_loss   0.48921  \n",
       "225   2022-02-07 20:42:25     a     55     1  average_valid_loss  0.492681  \n",
       "0     2022-02-07 20:42:25     a      1     0      avg_train_loss   0.69547  \n",
       "\n",
       "[10285 rows x 8 columns]"
      ]
     },
     "execution_count": 2,
     "metadata": {},
     "output_type": "execute_result"
    }
   ],
   "source": [
    "df = flor.load_kvs()\n",
    "df"
   ]
  },
  {
   "cell_type": "code",
   "execution_count": null,
   "metadata": {},
   "outputs": [],
   "source": [
    "avg_train_loss = df[df['name'] == 'avg_train_loss'][['tstamp', 'epoch', 'step', 'value']].sort_values(by=['epoch', 'step'])\n",
    "avg_train_loss"
   ]
  },
  {
   "cell_type": "code",
   "execution_count": null,
   "metadata": {},
   "outputs": [],
   "source": [
    "df['vid']"
   ]
  },
  {
   "cell_type": "code",
   "execution_count": null,
   "metadata": {},
   "outputs": [],
   "source": [
    "avg_val_loss = df[df['name'] == 'average_valid_loss'][['vid', 'epoch', 'step', 'value']]\n",
    "avg_val_loss"
   ]
  },
  {
   "cell_type": "code",
   "execution_count": null,
   "metadata": {},
   "outputs": [],
   "source": [
    "fig = px.scatter_3d(avg_val_loss, x='epoch', y='step', z='value', color='vid')\n",
    "fig.show()"
   ]
  },
  {
   "cell_type": "code",
   "execution_count": null,
   "metadata": {},
   "outputs": [],
   "source": [
    "df['name'].unique()"
   ]
  },
  {
   "cell_type": "code",
   "execution_count": null,
   "metadata": {},
   "outputs": [],
   "source": [
    "best_loss = df[df['name'] == 'best_loss']\n",
    "best_loss"
   ]
  },
  {
   "cell_type": "code",
   "execution_count": null,
   "metadata": {},
   "outputs": [],
   "source": [
    "best_loss_valid = best_loss[best_loss['value'] != float('inf')]"
   ]
  },
  {
   "cell_type": "code",
   "execution_count": null,
   "metadata": {},
   "outputs": [],
   "source": [
    "fig = px.line(best_loss_valid, x='epoch', y='value', color='vid')\n",
    "fig.show()"
   ]
  },
  {
   "cell_type": "code",
   "execution_count": null,
   "metadata": {},
   "outputs": [],
   "source": [
    "# Hindsight Query: what was the LR used throughout?"
   ]
  },
  {
   "cell_type": "code",
   "execution_count": null,
   "metadata": {},
   "outputs": [],
   "source": []
  }
 ],
 "metadata": {
  "interpreter": {
   "hash": "31f2aee4e71d21fbe5cf8b01ff0e069b9275f58929596ceb00d14d90e3e16cd6"
  },
  "kernelspec": {
   "display_name": "Python 3.9.2 64-bit",
   "language": "python",
   "name": "python3"
  },
  "language_info": {
   "codemirror_mode": {
    "name": "ipython",
    "version": 3
   },
   "file_extension": ".py",
   "mimetype": "text/x-python",
   "name": "python",
   "nbconvert_exporter": "python",
   "pygments_lexer": "ipython3",
   "version": "3.9.7"
  },
  "orig_nbformat": 4
 },
 "nbformat": 4,
 "nbformat_minor": 2
}
