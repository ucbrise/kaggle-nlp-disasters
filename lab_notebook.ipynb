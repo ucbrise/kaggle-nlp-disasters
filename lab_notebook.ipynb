{
 "cells": [
  {
   "cell_type": "code",
   "execution_count": null,
   "metadata": {},
   "outputs": [],
   "source": [
    "# Preview the full pivot\n",
    "import flor\n",
    "full_pivot = flor.full_pivot()\n",
    "assert full_pivot is not None\n",
    "print(f\"Logged Vars: {[c for c in full_pivot.columns if c not in flor.INNR_LOOP]}\")\n",
    "full_pivot"
   ]
  },
  {
   "cell_type": "code",
   "execution_count": null,
   "metadata": {},
   "outputs": [],
   "source": [
    "import flor\n",
    "flor.DATA_PREP, flor.OUTR_LOOP, flor.INNR_LOOP"
   ]
  },
  {
   "cell_type": "code",
   "execution_count": null,
   "metadata": {},
   "outputs": [],
   "source": [
    "# Preview of facts\n",
    "import flor\n",
    "facts = flor.log_records()\n",
    "facts"
   ]
  },
  {
   "cell_type": "code",
   "execution_count": null,
   "metadata": {},
   "outputs": [],
   "source": [
    "# Device or Optimizer is null\n",
    "import flor\n",
    "full_pivot = flor.full_pivot()\n",
    "assert full_pivot is not None\n",
    "dp_schedule = full_pivot.query(\"device.isna() or optimizer.isna()\")[list(flor.DATA_PREP)].drop_duplicates()\n",
    "\n",
    "print(dp_schedule['vid'].drop_duplicates())\n",
    "dp_schedule"
   ]
  },
  {
   "cell_type": "code",
   "execution_count": null,
   "metadata": {},
   "outputs": [],
   "source": [
    "import flor\n",
    "flor.replay(apply_vars=['device', 'optimizer', 'learning_rate'], where_clause=\"device.isna() or optimizer.isna()\", path='train_rnn.py')"
   ]
  },
  {
   "cell_type": "code",
   "execution_count": null,
   "metadata": {},
   "outputs": [],
   "source": [
    "import flor\n",
    "flor.apply(['device', 'optimizer'], 'train_rnn.py')"
   ]
  },
  {
   "cell_type": "code",
   "execution_count": null,
   "metadata": {},
   "outputs": [],
   "source": [
    "# Learning Rate Schedule\n",
    "import flor\n",
    "full_pivot = flor.full_pivot()\n",
    "assert full_pivot is not None\n",
    "lr_schedule = full_pivot[full_pivot['learning_rate'].isna()][list(flor.OUTR_LOOP)].drop_duplicates()\n",
    "\n",
    "print(lr_schedule['vid'].drop_duplicates())\n",
    "lr_schedule"
   ]
  },
  {
   "cell_type": "code",
   "execution_count": null,
   "metadata": {},
   "outputs": [],
   "source": [
    "import flor\n",
    "flor.apply(['learning_rate'], 'train_rnn.py')"
   ]
  },
  {
   "cell_type": "code",
   "execution_count": null,
   "metadata": {},
   "outputs": [],
   "source": [
    "# HAVING COUNT(*) == 1\n",
    "import flor\n",
    "facts = flor.log_records(skip_unpack=True)\n",
    "assert facts is not None\n",
    "dpgb = facts.groupby(list(flor.DATA_PREP + ('name',)))\n",
    "dpgb.filter(lambda x: len(x) == 1)"
   ]
  }
 ],
 "metadata": {
  "kernelspec": {
   "display_name": "kaggle-nlp-dist",
   "language": "python",
   "name": "python3"
  },
  "language_info": {
   "codemirror_mode": {
    "name": "ipython",
    "version": 3
   },
   "file_extension": ".py",
   "mimetype": "text/x-python",
   "name": "python",
   "nbconvert_exporter": "python",
   "pygments_lexer": "ipython3",
   "version": "3.9.16"
  },
  "orig_nbformat": 4,
  "vscode": {
   "interpreter": {
    "hash": "815c30a49f552e6fdb87f74e117ecdf18b0ca5a01ddc5c83796985c2fbc2bb40"
   }
  }
 },
 "nbformat": 4,
 "nbformat_minor": 2
}
