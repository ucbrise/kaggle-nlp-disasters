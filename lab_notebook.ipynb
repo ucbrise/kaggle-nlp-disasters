{
 "cells": [
  {
   "attachments": {},
   "cell_type": "markdown",
   "metadata": {},
   "source": [
    "# How to run your experiment"
   ]
  },
  {
   "cell_type": "code",
   "execution_count": 6,
   "metadata": {},
   "outputs": [
    {
     "name": "stdout",
     "output_type": "stream",
     "text": [
      "/home/rogarcia/anaconda3/envs/kaggle-nlp-dist/lib/python3.9/site-packages/torchtext/data/utils.py:123: UserWarning: Spacy model \"en\" could not be loaded, trying \"en_core_web_sm\" instead\n",
      "  warnings.warn(f'Spacy model \"{language}\" could not be loaded, trying \"{OLD_MODEL_SHORTCUTS[language]}\" instead')\n",
      "time elapsed in epoch: 0.004513740539550781\n",
      "Epoch [17/20], LR: 0.063, Step [4/1920], Train Loss: 0.6042, Valid Loss: 0.6781\n",
      "Epoch [17/20], LR: 0.063, Step [8/1920], Train Loss: 0.6457, Valid Loss: 0.6787\n",
      "Epoch [17/20], LR: 0.063, Step [12/1920], Train Loss: 0.6675, Valid Loss: 0.6787\n",
      "Epoch [17/20], LR: 0.063, Step [16/1920], Train Loss: 0.6868, Valid Loss: 0.6783\n",
      "Epoch [17/20], LR: 0.063, Step [20/1920], Train Loss: 0.7100, Valid Loss: 0.6776\n",
      "Epoch [17/20], LR: 0.063, Step [24/1920], Train Loss: 0.6725, Valid Loss: 0.6776\n",
      "Epoch [17/20], LR: 0.063, Step [28/1920], Train Loss: 0.7005, Valid Loss: 0.6771\n",
      "Epoch [17/20], LR: 0.063, Step [32/1920], Train Loss: 0.7051, Valid Loss: 0.6769\n",
      "Epoch [17/20], LR: 0.063, Step [36/1920], Train Loss: 0.6835, Valid Loss: 0.6769\n",
      "Epoch [17/20], LR: 0.063, Step [40/1920], Train Loss: 0.6680, Valid Loss: 0.6770\n",
      "Epoch [17/20], LR: 0.063, Step [44/1920], Train Loss: 0.6787, Valid Loss: 0.6769\n",
      "Epoch [17/20], LR: 0.063, Step [48/1920], Train Loss: 0.6995, Valid Loss: 0.6769\n",
      "Epoch [17/20], LR: 0.063, Step [52/1920], Train Loss: 0.7024, Valid Loss: 0.6770\n",
      "Epoch [17/20], LR: 0.063, Step [56/1920], Train Loss: 0.6880, Valid Loss: 0.6770\n",
      "Epoch [17/20], LR: 0.063, Step [60/1920], Train Loss: 0.6931, Valid Loss: 0.6771\n",
      "Epoch [17/20], LR: 0.063, Step [64/1920], Train Loss: 0.6924, Valid Loss: 0.6773\n",
      "Epoch [17/20], LR: 0.063, Step [68/1920], Train Loss: 0.7022, Valid Loss: 0.6778\n",
      "Epoch [17/20], LR: 0.063, Step [72/1920], Train Loss: 0.6725, Valid Loss: 0.6775\n",
      "Epoch [17/20], LR: 0.063, Step [76/1920], Train Loss: 0.6839, Valid Loss: 0.6775\n",
      "Epoch [17/20], LR: 0.063, Step [80/1920], Train Loss: 0.6937, Valid Loss: 0.6777\n",
      "Epoch [17/20], LR: 0.063, Step [84/1920], Train Loss: 0.6864, Valid Loss: 0.6778\n",
      "Epoch [17/20], LR: 0.063, Step [88/1920], Train Loss: 0.6749, Valid Loss: 0.6775\n",
      "Epoch [17/20], LR: 0.063, Step [92/1920], Train Loss: 0.6600, Valid Loss: 0.6769\n",
      "Epoch [17/20], LR: 0.063, Step [96/1920], Train Loss: 0.6309, Valid Loss: 0.6767\n",
      "time elapsed in epoch: 2.5438332557678223\n",
      "Finished Training!\n",
      "The following commands were written to file `.flor/run.ipy`:\n",
      "!python train_rnn.py --replay_flor 2/2\n",
      "%save -rf .flor/run.ipy\n",
      "!python train_rnn.py --replay_flor 2/2\n",
      "%save -rf .flor/run.ipy\n",
      "!python train_rnn.py --replay_flor 2/2\n",
      "%save -rf .flor/run.ipy\n",
      "!python train_rnn.py --replay_flor 2/2\n",
      "%save -rf .flor/run.ipy\n",
      "!python train_rnn.py --replay_flor 2/2\n",
      "%save -rf .flor/run.ipy\n",
      "!python train_rnn.py --replay_flor 17/20\n"
     ]
    }
   ],
   "source": [
    "!python train_rnn.py --replay_flor 17/20\n",
    "%save -rf .flor/run.ipy"
   ]
  },
  {
   "cell_type": "code",
   "execution_count": null,
   "metadata": {},
   "outputs": [],
   "source": []
  }
 ],
 "metadata": {
  "kernelspec": {
   "display_name": "base",
   "language": "python",
   "name": "python3"
  },
  "language_info": {
   "codemirror_mode": {
    "name": "ipython",
    "version": 3
   },
   "file_extension": ".py",
   "mimetype": "text/x-python",
   "name": "python",
   "nbconvert_exporter": "python",
   "pygments_lexer": "ipython3",
   "version": "3.9.13"
  },
  "orig_nbformat": 4,
  "vscode": {
   "interpreter": {
    "hash": "dd48917be22be1a857f0eafcb6b9ae7349b94a78c1cb4b7d0d9482935df2ee33"
   }
  }
 },
 "nbformat": 4,
 "nbformat_minor": 2
}
