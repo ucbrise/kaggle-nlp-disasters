{
 "cells": [
  {
   "attachments": {},
   "cell_type": "markdown",
   "metadata": {},
   "source": [
    "# How to run your experiment"
   ]
  },
  {
   "cell_type": "code",
   "execution_count": 2,
   "metadata": {},
   "outputs": [
    {
     "name": "stdout",
     "output_type": "stream",
     "text": [
      "/home/rogarcia/anaconda3/envs/kaggle-nlp-dist/lib/python3.9/site-packages/torchtext/data/utils.py:123: UserWarning: Spacy model \"en\" could not be loaded, trying \"en_core_web_sm\" instead\n",
      "  warnings.warn(f'Spacy model \"{language}\" could not be loaded, trying \"{OLD_MODEL_SHORTCUTS[language]}\" instead')\n",
      "Traceback (most recent call last):\n",
      "  File \"/home/rogarcia/git/kaggle-nlp-disasters/train_rnn.py\", line 239, in <module>\n",
      "    pred = train(model=model, optimizer=optimizer, num_epochs=EPOCHS)\n",
      "  File \"/home/rogarcia/git/kaggle-nlp-disasters/train_rnn.py\", line 144, in train\n",
      "    for epoch in Flor.loop(range(num_epochs)):\n",
      "  File \"/home/rogarcia/git/flor/flor/kits.py\", line 41, in loop\n",
      "    for each in it(iter8r):\n",
      "  File \"/home/rogarcia/git/flor/flor/iterator.py\", line 32, in it\n",
      "    _deferred_init()\n",
      "  File \"/home/rogarcia/git/flor/flor/iterator.py\", line 81, in _deferred_init\n",
      "    SkipBlock.journal.read()\n",
      "  File \"/home/rogarcia/git/flor/flor/journal/__init__.py\", line 29, in read\n",
      "    self.entries = read_entries()\n",
      "  File \"/home/rogarcia/git/flor/flor/journal/__init__.py\", line 15, in read_entries\n",
      "    index = home_shelf.get_index()\n",
      "  File \"/home/rogarcia/git/flor/flor/shelf/home_shelf.py\", line 46, in get_index\n",
      "    assert flags.INDEX is not None\n",
      "AssertionError\n",
      "The following commands were written to file `.flor/run.ipy`:\n",
      "!python train_rnn.py --flor runID\n",
      "%save -rf .flor/run.ipy\n",
      "!python train_rnn.py --replay_flor 20/20\n"
     ]
    }
   ],
   "source": [
    "!python train_rnn.py --flor\n",
    "%save -rf .flor/run.ipy"
   ]
  },
  {
   "cell_type": "code",
   "execution_count": null,
   "metadata": {},
   "outputs": [],
   "source": []
  }
 ],
 "metadata": {
  "kernelspec": {
   "display_name": "kaggle-nlp-dist",
   "language": "python",
   "name": "python3"
  },
  "language_info": {
   "codemirror_mode": {
    "name": "ipython",
    "version": 3
   },
   "file_extension": ".py",
   "mimetype": "text/x-python",
   "name": "python",
   "nbconvert_exporter": "python",
   "pygments_lexer": "ipython3",
   "version": "3.9.16"
  },
  "orig_nbformat": 4,
  "vscode": {
   "interpreter": {
    "hash": "815c30a49f552e6fdb87f74e117ecdf18b0ca5a01ddc5c83796985c2fbc2bb40"
   }
  }
 },
 "nbformat": 4,
 "nbformat_minor": 2
}
