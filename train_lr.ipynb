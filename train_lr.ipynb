{
 "cells": [
  {
   "cell_type": "code",
   "execution_count": 7,
   "metadata": {},
   "outputs": [],
   "source": [
    "import numpy as np\n",
    "import pandas as pd \n",
    "from scipy.special import expit\n",
    "import matplotlib.pyplot as plt"
   ]
  },
  {
   "cell_type": "code",
   "execution_count": null,
   "metadata": {},
   "outputs": [],
   "source": [
    "train = pd.read_csv(\"data/train_lr.csv\")\n",
    "valid = pd.read_csv(\"data/valid_lr.csv\")\n",
    "test = pd.read_csv(\"data/test_lr.csv\")"
   ]
  },
  {
   "cell_type": "code",
   "execution_count": null,
   "metadata": {},
   "outputs": [],
   "source": [
    "X_train = np.array(train.iloc[:, :10000])\n",
    "y_train = np.array(train['target'])\n",
    "X_valid = np.array(valid.iloc[:, :10000])\n",
    "y_valid = np.array(valid['target'])\n",
    "X_test = np.array(test)"
   ]
  },
  {
   "cell_type": "code",
   "execution_count": null,
   "metadata": {},
   "outputs": [],
   "source": [
    "loss_BGD = []\n",
    "loss_BGD_valid = []\n",
    "c_reg = 0.01\n",
    "stepsize = 0.001\n",
    "# y = y.reshape(6000)"
   ]
  },
  {
   "cell_type": "code",
   "execution_count": null,
   "metadata": {},
   "outputs": [
    {
     "ename": "NameError",
     "evalue": "name 'np' is not defined",
     "output_type": "error",
     "traceback": [
      "\u001b[0;31m---------------------------------------------------------------------------\u001b[0m",
      "\u001b[0;31mNameError\u001b[0m                                 Traceback (most recent call last)",
      "\u001b[1;32m/workspaces/kaggle-nlp-disasters/train_lr.ipynb Cell 5'\u001b[0m in \u001b[0;36m<module>\u001b[0;34m\u001b[0m\n\u001b[0;32m----> <a href='vscode-notebook-cell://codespaces%2Balexiswan99-ucbrise-kaggle-nlp-disasters-5wp4rpjwhpvr7/workspaces/kaggle-nlp-disasters/train_lr.ipynb#ch0000004vscode-remote?line=0'>1</a>\u001b[0m w \u001b[39m=\u001b[39m np\u001b[39m.\u001b[39mzeros(\u001b[39m10000\u001b[39m)\n\u001b[1;32m      <a href='vscode-notebook-cell://codespaces%2Balexiswan99-ucbrise-kaggle-nlp-disasters-5wp4rpjwhpvr7/workspaces/kaggle-nlp-disasters/train_lr.ipynb#ch0000004vscode-remote?line=1'>2</a>\u001b[0m s \u001b[39m=\u001b[39m expit(np\u001b[39m.\u001b[39mdot(X_train, w))\n\u001b[1;32m      <a href='vscode-notebook-cell://codespaces%2Balexiswan99-ucbrise-kaggle-nlp-disasters-5wp4rpjwhpvr7/workspaces/kaggle-nlp-disasters/train_lr.ipynb#ch0000004vscode-remote?line=2'>3</a>\u001b[0m J \u001b[39m=\u001b[39m \u001b[39m-\u001b[39mnp\u001b[39m.\u001b[39mdot(y_train\u001b[39m.\u001b[39mT, np\u001b[39m.\u001b[39mlog(s)) \u001b[39m-\u001b[39m np\u001b[39m.\u001b[39mdot((\u001b[39m1\u001b[39m\u001b[39m-\u001b[39my_train)\u001b[39m.\u001b[39mT, np\u001b[39m.\u001b[39mlog(\u001b[39m1\u001b[39m\u001b[39m-\u001b[39ms)) \u001b[39m+\u001b[39m c_reg \u001b[39m*\u001b[39m np\u001b[39m.\u001b[39mdot(w\u001b[39m.\u001b[39mT, w)\n",
      "\u001b[0;31mNameError\u001b[0m: name 'np' is not defined"
     ]
    }
   ],
   "source": [
    "w = np.zeros(10000)\n",
    "s = expit(np.dot(X_train, w))\n",
    "J = -np.dot(y_train.T, np.log(s)) - np.dot((1-y_train).T, np.log(1-s)) + c_reg * np.dot(w.T, w)\n",
    "s_v = expit(np.dot(X_valid, w))\n",
    "J_v = -np.dot(y_valid.T, np.log(s_v)) - np.dot((1-y_valid).T, np.log(1-s_v)) + c_reg * np.dot(w.T, w)\n",
    "loss_BGD.append(J)\n",
    "loss_BGD_valid.append(J_v)"
   ]
  },
  {
   "cell_type": "code",
   "execution_count": null,
   "metadata": {},
   "outputs": [
    {
     "name": "stdout",
     "output_type": "stream",
     "text": [
      "3634.8210204707284\n"
     ]
    }
   ],
   "source": [
    "for epoch in range(5000):\n",
    "    w = w + stepsize * np.dot(X_train.T, (y_train - s)) - 2*stepsize*c_reg*w\n",
    "    s = expit(np.dot(X_train, w))\n",
    "    s_v = expit(np.dot(X_valid, w))\n",
    "    J = -np.dot(y_train.T, np.log(s+1e-30)) - np.dot((1-y_train).T, np.log(1-s+1e-30)) + c_reg * np.dot(w.T, w)\n",
    "    J_v = -np.dot(y_valid.T, np.log(s_v+1e-30)) - np.dot((1-y_valid).T, np.log(1-s_v+1e-30)) + c_reg * np.dot(w.T, w)\n",
    "    loss_BGD.append(J)\n",
    "    loss_BGD_valid.append(J_v)"
   ]
  },
  {
   "cell_type": "code",
   "execution_count": null,
   "metadata": {},
   "outputs": [
    {
     "data": {
      "image/png": "[encoded data removed]",
      "text/plain": [
       "<Figure size 432x288 with 1 Axes>"
      ]
     },
     "metadata": {
      "needs_background": "light"
     },
     "output_type": "display_data"
    }
   ],
   "source": [
    "x = range(1001)\n",
    "plt.plot(x, loss_BGD, label = 'train cost', marker = '.')\n",
    "plt.plot(x, loss_BGD_valid, label = 'valid cost', marker = '.')\n",
    "plt.xlabel('# of iterations')\n",
    "plt.legend()\n",
    "plt.show()"
   ]
  },
  {
   "cell_type": "code",
   "execution_count": null,
   "metadata": {},
   "outputs": [
    {
     "ename": "IndexError",
     "evalue": "list index out of range",
     "output_type": "error",
     "traceback": [
      "\u001b[0;31m---------------------------------------------------------------------------\u001b[0m",
      "\u001b[0;31mIndexError\u001b[0m                                Traceback (most recent call last)",
      "\u001b[1;32m/workspaces/kaggle-nlp-disasters/train_lr.ipynb Cell 8'\u001b[0m in \u001b[0;36m<module>\u001b[0;34m\u001b[0m\n\u001b[0;32m----> <a href='vscode-notebook-cell://codespaces%2Balexiswan99-ucbrise-kaggle-nlp-disasters-5wp4rpjwhpvr7/workspaces/kaggle-nlp-disasters/train_lr.ipynb#ch0000007vscode-remote?line=0'>1</a>\u001b[0m \u001b[39mprint\u001b[39m(loss_BGD[\u001b[39m1000\u001b[39;49m])\n\u001b[1;32m      <a href='vscode-notebook-cell://codespaces%2Balexiswan99-ucbrise-kaggle-nlp-disasters-5wp4rpjwhpvr7/workspaces/kaggle-nlp-disasters/train_lr.ipynb#ch0000007vscode-remote?line=1'>2</a>\u001b[0m \u001b[39mprint\u001b[39m(loss_BGD_valid[\u001b[39m1000\u001b[39m])\n",
      "\u001b[0;31mIndexError\u001b[0m: list index out of range"
     ]
    }
   ],
   "source": [
    "print(loss_BGD[1000])\n",
    "print(loss_BGD_valid[1000])"
   ]
  }
 ],
 "metadata": {
  "interpreter": {
   "hash": "f2d0b0f03ac3a581d6b1b551bd30a19f866dd2d205f22e8dba00531575c12bcc"
  },
  "kernelspec": {
   "display_name": "Python 3.8.12 64-bit ('.venv': venv)",
   "language": "python",
   "name": "python3"
  },
  "language_info": {
   "codemirror_mode": {
    "name": "ipython",
    "version": 3
   },
   "file_extension": ".py",
   "mimetype": "text/x-python",
   "name": "python",
   "nbconvert_exporter": "python",
   "pygments_lexer": "ipython3",
   "version": "3.8.12"
  },
  "orig_nbformat": 4
 },
 "nbformat": 4,
 "nbformat_minor": 2
}
