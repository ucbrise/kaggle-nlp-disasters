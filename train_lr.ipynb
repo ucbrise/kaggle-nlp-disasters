{
 "cells": [
  {
   "cell_type": "code",
   "execution_count": 16,
   "metadata": {},
   "outputs": [],
   "source": [
    "import numpy as np\n",
    "import pandas as pd \n",
    "from scipy.special import expit\n",
    "import matplotlib.pyplot as plt"
   ]
  },
  {
   "cell_type": "code",
   "execution_count": 17,
   "metadata": {},
   "outputs": [],
   "source": [
    "train = pd.read_csv(\"data/train_lr.csv\")\n",
    "valid = pd.read_csv(\"data/valid_lr.csv\")\n",
    "test = pd.read_csv(\"data/test_lr.csv\")"
   ]
  },
  {
   "cell_type": "code",
   "execution_count": 18,
   "metadata": {},
   "outputs": [],
   "source": [
    "X_train = np.array(train.iloc[:, :10000])\n",
    "y_train = np.array(train['target'])\n",
    "X_valid = np.array(valid.iloc[:, :10000])\n",
    "y_valid = np.array(valid['target'])\n",
    "X_test = np.array(test)"
   ]
  },
  {
   "cell_type": "markdown",
   "metadata": {},
   "source": [
    "### batch gradient descent "
   ]
  },
  {
   "cell_type": "code",
   "execution_count": 48,
   "metadata": {},
   "outputs": [],
   "source": [
    "loss_BGD = []\n",
    "loss_BGD_valid = []\n",
    "c_reg = 0.01\n",
    "stepsize = 0.001"
   ]
  },
  {
   "cell_type": "code",
   "execution_count": 49,
   "metadata": {},
   "outputs": [],
   "source": [
    "w = np.zeros(10000)\n",
    "s = expit(np.dot(X_train, w))\n",
    "J = -np.dot(y_train.T, np.log(s)) - np.dot((1-y_train).T, np.log(1-s)) + c_reg * np.dot(w.T, w)\n",
    "s_v = expit(np.dot(X_valid, w))\n",
    "J_v = -np.dot(y_valid.T, np.log(s_v)) - np.dot((1-y_valid).T, np.log(1-s_v)) + c_reg * np.dot(w.T, w)\n",
    "loss_BGD.append(J)\n",
    "loss_BGD_valid.append(J_v)"
   ]
  },
  {
   "cell_type": "code",
   "execution_count": 50,
   "metadata": {},
   "outputs": [],
   "source": [
    "for epoch in range(1000):\n",
    "    w = w + stepsize * np.dot(X_train.T, (y_train - s)) - 2*stepsize*c_reg*w\n",
    "    s = expit(np.dot(X_train, w))\n",
    "    s_v = expit(np.dot(X_valid, w))\n",
    "    J = -np.dot(y_train.T, np.log(s+1e-30)) - np.dot((1-y_train).T, np.log(1-s+1e-30)) + c_reg * np.dot(w.T, w)\n",
    "    J_v = -np.dot(y_valid.T, np.log(s_v+1e-30)) - np.dot((1-y_valid).T, np.log(1-s_v+1e-30)) + c_reg * np.dot(w.T, w)\n",
    "    loss_BGD.append(J)\n",
    "    loss_BGD_valid.append(J_v)"
   ]
  },
  {
   "cell_type": "code",
   "execution_count": 51,
   "metadata": {},
   "outputs": [
    {
     "data": {
      "image/png": "[encoded data removed]",
      "text/plain": [
       "<Figure size 432x288 with 1 Axes>"
      ]
     },
     "metadata": {
      "needs_background": "light"
     },
     "output_type": "display_data"
    }
   ],
   "source": [
    "x = range(1001)\n",
    "plt.plot(x, loss_BGD, label = 'train cost', marker = '.')\n",
    "plt.plot(x, loss_BGD_valid, label = 'valid cost', marker = '.')\n",
    "plt.xlabel('# of iterations')\n",
    "plt.legend()\n",
    "plt.show()"
   ]
  },
  {
   "cell_type": "code",
   "execution_count": 53,
   "metadata": {},
   "outputs": [
    {
     "name": "stdout",
     "output_type": "stream",
     "text": [
      "2419.5892051945298\n",
      "753.7857512398791\n"
     ]
    }
   ],
   "source": [
    "print(loss_BGD[1000])\n",
    "print(loss_BGD_valid[1000])"
   ]
  },
  {
   "cell_type": "code",
   "execution_count": 54,
   "metadata": {},
   "outputs": [
    {
     "data": {
      "text/plain": [
       "array([1, 0, 1, ..., 1, 1, 0])"
      ]
     },
     "execution_count": 54,
     "metadata": {},
     "output_type": "execute_result"
    }
   ],
   "source": [
    "pred = (np.dot(X_test, w) > 0.5) + 0\n",
    "pred "
   ]
  },
  {
   "cell_type": "code",
   "execution_count": 55,
   "metadata": {},
   "outputs": [],
   "source": [
    "test_data = pd.read_csv(\"data/test.csv\")\n",
    "preds_df = pd.DataFrame({\"id\": test_data[\"id\"], \"target\": pred})\n",
    "preds_df.to_csv(f\"data/output_lr_2.csv\", index=False)"
   ]
  },
  {
   "cell_type": "markdown",
   "metadata": {},
   "source": [
    "### stochastic gradient descent "
   ]
  },
  {
   "cell_type": "code",
   "execution_count": 64,
   "metadata": {},
   "outputs": [],
   "source": [
    "loss_SGD = []\n",
    "loss_SGD_valid = []\n",
    "c_reg = 0.001\n",
    "stepsize = 0.01"
   ]
  },
  {
   "cell_type": "code",
   "execution_count": 65,
   "metadata": {},
   "outputs": [],
   "source": [
    "w = np.zeros(10000)\n",
    "s = expit(np.dot(X_train, w))\n",
    "s_v = expit(np.dot(X_valid, w))\n",
    "J = -np.dot(y_train.T, np.log(s)) - np.dot((1-y_train).T, np.log(1-s)) + c_reg * np.dot(w.T, w)\n",
    "J_v = -np.dot(y_valid.T, np.log(s_v)) - np.dot((1-y_valid).T, np.log(1-s_v)) + c_reg * np.dot(w.T, w)\n",
    "loss_SGD.append(J)\n",
    "loss_SGD_valid.append(J_v)"
   ]
  },
  {
   "cell_type": "code",
   "execution_count": 66,
   "metadata": {},
   "outputs": [],
   "source": [
    "np.random.seed(17)\n",
    "for epoch in range(10000): \n",
    "    k = np.random.randint(6090)\n",
    "    w = w + stepsize * X_train[k].T * (y_train[k] - s[k]) - 2*stepsize*c_reg*w\n",
    "    s = expit(np.dot(X_train, w))\n",
    "    J = -np.dot(y_train.T, np.log(s+1e-30)) - np.dot((1-y_train).T, np.log(1-s+1e-30)) + c_reg * np.dot(w.T, w)\n",
    "    s_v = expit(np.dot(X_valid, w))\n",
    "    J_v = -np.dot(y_valid.T, np.log(s_v+1e-30)) - np.dot((1-y_valid).T, np.log(1-s_v+1e-30)) + c_reg * np.dot(w.T, w)\n",
    "    loss_SGD.append(J)\n",
    "    loss_SGD_valid.append(J_v)"
   ]
  },
  {
   "cell_type": "code",
   "execution_count": 72,
   "metadata": {},
   "outputs": [
    {
     "data": {
      "image/png": "[encoded data removed]",
      "text/plain": [
       "<Figure size 432x288 with 1 Axes>"
      ]
     },
     "metadata": {
      "needs_background": "light"
     },
     "output_type": "display_data"
    }
   ],
   "source": [
    "x = range(10001)\n",
    "plt.plot(x, loss_SGD, label = 'train cost')\n",
    "plt.plot(x, loss_SGD_valid, label = 'valid cost')\n",
    "plt.xlabel('# of iterations')\n",
    "plt.legend()\n",
    "plt.show()"
   ]
  },
  {
   "cell_type": "code",
   "execution_count": 74,
   "metadata": {},
   "outputs": [
    {
     "name": "stdout",
     "output_type": "stream",
     "text": [
      "3959.393876054222\n",
      "996.4602840254937\n"
     ]
    }
   ],
   "source": [
    "print(loss_SGD[10000])\n",
    "print(loss_SGD_valid[10000])"
   ]
  },
  {
   "cell_type": "code",
   "execution_count": null,
   "metadata": {},
   "outputs": [],
   "source": []
  }
 ],
 "metadata": {
  "interpreter": {
   "hash": "f2d0b0f03ac3a581d6b1b551bd30a19f866dd2d205f22e8dba00531575c12bcc"
  },
  "kernelspec": {
   "display_name": "Python 3.8.12 ('.venv': venv)",
   "language": "python",
   "name": "python3"
  },
  "language_info": {
   "name": "python",
   "version": "3.8.12"
  },
  "orig_nbformat": 4
 },
 "nbformat": 4,
 "nbformat_minor": 2
}
