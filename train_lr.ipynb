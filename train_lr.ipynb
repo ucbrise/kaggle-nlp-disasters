{
 "cells": [
  {
   "cell_type": "code",
   "execution_count": 16,
   "metadata": {},
   "outputs": [],
   "source": [
    "import numpy as np\n",
    "import pandas as pd \n",
    "from scipy.special import expit\n",
    "import matplotlib.pyplot as plt"
   ]
  },
  {
   "cell_type": "code",
   "execution_count": 17,
   "metadata": {},
   "outputs": [],
   "source": [
    "train = pd.read_csv(\"data/train_lr.csv\")\n",
    "valid = pd.read_csv(\"data/valid_lr.csv\")\n",
    "test = pd.read_csv(\"data/test_lr.csv\")"
   ]
  },
  {
   "cell_type": "code",
   "execution_count": 18,
   "metadata": {},
   "outputs": [],
   "source": [
    "X_train = np.array(train.iloc[:, :10000])\n",
    "y_train = np.array(train['target'])\n",
    "X_valid = np.array(valid.iloc[:, :10000])\n",
    "y_valid = np.array(valid['target'])\n",
    "X_test = np.array(test)"
   ]
  },
  {
   "cell_type": "code",
   "execution_count": 31,
   "metadata": {},
   "outputs": [],
   "source": [
    "loss_BGD = []\n",
    "loss_BGD_valid = []\n",
    "c_reg = 0.01\n",
    "stepsize = 0.001"
   ]
  },
  {
   "cell_type": "code",
   "execution_count": 32,
   "metadata": {},
   "outputs": [],
   "source": [
    "w = np.zeros(10000)\n",
    "s = expit(np.dot(X_train, w))\n",
    "J = -np.dot(y_train.T, np.log(s)) - np.dot((1-y_train).T, np.log(1-s)) + c_reg * np.dot(w.T, w)\n",
    "s_v = expit(np.dot(X_valid, w))\n",
    "J_v = -np.dot(y_valid.T, np.log(s_v)) - np.dot((1-y_valid).T, np.log(1-s_v)) + c_reg * np.dot(w.T, w)\n",
    "loss_BGD.append(J)\n",
    "loss_BGD_valid.append(J_v)"
   ]
  },
  {
   "cell_type": "code",
   "execution_count": 33,
   "metadata": {},
   "outputs": [],
   "source": [
    "for epoch in range(2000):\n",
    "    w = w + stepsize * np.dot(X_train.T, (y_train - s)) - 2*stepsize*c_reg*w\n",
    "    s = expit(np.dot(X_train, w))\n",
    "    s_v = expit(np.dot(X_valid, w))\n",
    "    J = -np.dot(y_train.T, np.log(s+1e-30)) - np.dot((1-y_train).T, np.log(1-s+1e-30)) + c_reg * np.dot(w.T, w)\n",
    "    J_v = -np.dot(y_valid.T, np.log(s_v+1e-30)) - np.dot((1-y_valid).T, np.log(1-s_v+1e-30)) + c_reg * np.dot(w.T, w)\n",
    "    loss_BGD.append(J)\n",
    "    loss_BGD_valid.append(J_v)"
   ]
  },
  {
   "cell_type": "code",
   "execution_count": 34,
   "metadata": {},
   "outputs": [
    {
     "data": {
      "image/png": "[encoded data removed]",
      "text/plain": [
       "<Figure size 432x288 with 1 Axes>"
      ]
     },
     "metadata": {
      "needs_background": "light"
     },
     "output_type": "display_data"
    }
   ],
   "source": [
    "x = range(2001)\n",
    "plt.plot(x, loss_BGD, label = 'train cost', marker = '.')\n",
    "plt.plot(x, loss_BGD_valid, label = 'valid cost', marker = '.')\n",
    "plt.xlabel('# of iterations')\n",
    "plt.legend()\n",
    "plt.show()"
   ]
  },
  {
   "cell_type": "code",
   "execution_count": 35,
   "metadata": {},
   "outputs": [
    {
     "name": "stdout",
     "output_type": "stream",
     "text": [
      "2135.215885365406\n",
      "754.9145686976821\n"
     ]
    }
   ],
   "source": [
    "print(loss_BGD[2000])\n",
    "print(loss_BGD_valid[2000])"
   ]
  },
  {
   "cell_type": "code",
   "execution_count": 46,
   "metadata": {},
   "outputs": [
    {
     "data": {
      "text/plain": [
       "array([1, 0, 1, ..., 1, 1, 0])"
      ]
     },
     "execution_count": 46,
     "metadata": {},
     "output_type": "execute_result"
    }
   ],
   "source": [
    "pred = (np.dot(X_test, w) > 0.5) + 0\n",
    "pred "
   ]
  },
  {
   "cell_type": "code",
   "execution_count": 41,
   "metadata": {},
   "outputs": [],
   "source": [
    "test_data = pd.read_csv(\"data/test.csv\")\n",
    "preds_df = pd.DataFrame({\"id\": test_data[\"id\"], \"target\": pred})\n",
    "preds_df.to_csv(f\"data/output_lr_1.csv\", index=False)"
   ]
  }
 ],
 "metadata": {
  "language_info": {
   "name": "python"
  },
  "orig_nbformat": 4
 },
 "nbformat": 4,
 "nbformat_minor": 2
}
